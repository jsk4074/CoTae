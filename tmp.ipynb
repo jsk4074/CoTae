{
 "cells": [
  {
   "cell_type": "code",
   "execution_count": 54,
   "metadata": {},
   "outputs": [
    {
     "data": {
      "text/plain": [
       "'No'"
      ]
     },
     "execution_count": 54,
     "metadata": {},
     "output_type": "execute_result"
    }
   ],
   "source": [
    "def solution(cards1, cards2, goal):\n",
    "    goal_check = goal.copy()\n",
    "\n",
    "    for i in goal: \n",
    "        if cards1 and cards1[0] == i:\n",
    "            cards1.pop(0)\n",
    "            goal_check.pop(0)\n",
    "\n",
    "        elif cards2 and cards2[0] == i:\n",
    "            cards2.pop(0)\n",
    "            goal_check.pop(0)\n",
    "\n",
    "        else:\n",
    "            return \"No\"\n",
    "\n",
    "    return \"Yes\"\n",
    "\n",
    "cards1 = [\"i\", \"drink\", \"water\"]\t\n",
    "cards1 = [\"i\", \"water\", \"drink\"]\n",
    "cards2 = [\"want\", \"to\"]\t\n",
    "goal = [\"i\", \"want\", \"to\", \"drink\", \"water\"]\n",
    "solution(cards1, cards2, goal)"
   ]
  },
  {
   "cell_type": "code",
   "execution_count": 46,
   "metadata": {},
   "outputs": [
    {
     "name": "stdout",
     "output_type": "stream",
     "text": [
      "[]\n",
      "[]\n"
     ]
    }
   ],
   "source": [
    "cards1 = [\"i\", \"water\", \"drink\"]\n",
    "cards1 = [\"i\", \"drink\", \"water\"]\t\n",
    "cards2 = [\"want\", \"to\"]\t\n",
    "goal = [\"i\", \"want\", \"to\", \"drink\", \"water\"]\n",
    "\n",
    "for i in goal: \n",
    "    if cards1:\n",
    "        if cards1[0] == i:\n",
    "            cards1.pop(0)\n",
    "    if cards2:\n",
    "        if cards2[0] == i:\n",
    "            cards2.pop(0)\n",
    "\n",
    "print(cards1)\n",
    "print(cards2)"
   ]
  },
  {
   "cell_type": "code",
   "execution_count": null,
   "metadata": {},
   "outputs": [],
   "source": []
  }
 ],
 "metadata": {
  "kernelspec": {
   "display_name": "Python 3",
   "language": "python",
   "name": "python3"
  },
  "language_info": {
   "codemirror_mode": {
    "name": "ipython",
    "version": 3
   },
   "file_extension": ".py",
   "mimetype": "text/x-python",
   "name": "python",
   "nbconvert_exporter": "python",
   "pygments_lexer": "ipython3",
   "version": "3.8.10"
  },
  "orig_nbformat": 4,
  "vscode": {
   "interpreter": {
    "hash": "aee8b7b246df8f9039afb4144a1f6fd8d2ca17a180786b69acc140d282b71a49"
   }
  }
 },
 "nbformat": 4,
 "nbformat_minor": 2
}
