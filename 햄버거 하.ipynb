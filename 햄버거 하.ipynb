{
 "cells": [
  {
   "cell_type": "code",
   "execution_count": 37,
   "metadata": {},
   "outputs": [
    {
     "data": {
      "text/plain": [
       "2"
      ]
     },
     "execution_count": 37,
     "metadata": {},
     "output_type": "execute_result"
    }
   ],
   "source": [
    "def solution(ingredient):\n",
    "    ingredient_str = ''.join([str(i)for i in ingredient])\n",
    "\n",
    "    count = 0 \n",
    "\n",
    "    while 1:\n",
    "        if '1231' in ingredient_str:\n",
    "            burger_location = ingredient_str.find('1231')\n",
    "            ingredient_str = ingredient_str[0 : burger_location] + ingredient_str[burger_location + 4 :]\n",
    "            count += 1\n",
    "        else:\n",
    "            return count\n",
    "\n",
    "ingredient = [2, 1, 1, 2, 3, 1, 2, 3, 1]\t\n",
    "# 2\n",
    "solution(ingredient)"
   ]
  },
  {
   "cell_type": "code",
   "execution_count": 30,
   "metadata": {},
   "outputs": [
    {
     "data": {
      "text/plain": [
       "1"
      ]
     },
     "execution_count": 30,
     "metadata": {},
     "output_type": "execute_result"
    }
   ],
   "source": [
    "# 2\n",
    "ingredient = [1, 3, 2, 1, 2, 1, 3, 1, 2]\n",
    "# 0\n",
    "ingredient = [2, 1, 1, 2, 3, 1, 2, 3, 1]\t\n",
    "# 3\n",
    "ingredient = [1, 1, 2, 1, 2, 3, 1, 3, 1, 2, 3, 1]\n",
    "\n",
    "ingredient_str = ''.join([str(i)for i in ingredient])\n",
    "\n",
    "count = 0 \n",
    "\n",
    "while 1:\n",
    "    if '1231' in ingredient_str:\n",
    "        ingredient_str = ingredient_str.replace('1231', '')\n",
    "        count += 1\n",
    "    else:\n",
    "        break\n",
    "\n",
    "count"
   ]
  },
  {
   "cell_type": "code",
   "execution_count": 36,
   "metadata": {},
   "outputs": [
    {
     "data": {
      "text/plain": [
       "3"
      ]
     },
     "execution_count": 36,
     "metadata": {},
     "output_type": "execute_result"
    }
   ],
   "source": [
    "# 2\n",
    "ingredient = [1, 3, 2, 1, 2, 1, 3, 1, 2]\n",
    "# 0\n",
    "ingredient = [2, 1, 1, 2, 3, 1, 2, 3, 1]\t\n",
    "# 3\n",
    "ingredient = [1, 1, 2, 1, 2, 3, 1, 3, 1, 2, 3, 1]\n",
    "\n",
    "ingredient_str = ''.join([str(i)for i in ingredient])\n",
    "\n",
    "count = 0 \n",
    "\n",
    "while 1:\n",
    "    if '1231' in ingredient_str:\n",
    "        burger_location = ingredient_str.find('1231')\n",
    "        ingredient_str = ingredient_str[0 : burger_location] + ingredient_str[burger_location + 4 :]\n",
    "        count += 1\n",
    "    else:\n",
    "        break\n",
    "\n",
    "count"
   ]
  },
  {
   "cell_type": "code",
   "execution_count": 31,
   "metadata": {},
   "outputs": [
    {
     "data": {
      "text/plain": [
       "3"
      ]
     },
     "execution_count": 31,
     "metadata": {},
     "output_type": "execute_result"
    }
   ],
   "source": [
    "# 2\n",
    "ingredient = [1, 3, 2, 1, 2, 1, 3, 1, 2]\n",
    "# 0\n",
    "ingredient = [2, 1, 1, 2, 3, 1, 2, 3, 1]\t\n",
    "# 3\n",
    "ingredient = [1, 1, 2, 1, 2, 3, 1, 3, 1, 2, 3, 1]\n",
    "\n",
    "ingredient_str = ''.join([str(i)for i in ingredient])\n",
    "\n",
    "count = 0 \n",
    "\n",
    "while 1:\n",
    "    if '1231' in ingredient_str:\n",
    "        ingredient_str = ingredient_str.replace('1231', '', 1)\n",
    "        count += 1\n",
    "    else:\n",
    "        break\n",
    "\n",
    "count"
   ]
  },
  {
   "cell_type": "code",
   "execution_count": 33,
   "metadata": {},
   "outputs": [
    {
     "ename": "ValueError",
     "evalue": "list.remove(x): x not in list",
     "output_type": "error",
     "traceback": [
      "\u001b[0;31m---------------------------------------------------------------------------\u001b[0m",
      "\u001b[0;31mValueError\u001b[0m                                Traceback (most recent call last)",
      "\u001b[0;32m/var/folders/8k/pkmq0wfd32q_r2nr5rcf2x1m0000gn/T/ipykernel_98706/1390942509.py\u001b[0m in \u001b[0;36m<module>\u001b[0;34m\u001b[0m\n\u001b[0;32m----> 1\u001b[0;31m \u001b[0;34m[\u001b[0m\u001b[0;36m1\u001b[0m\u001b[0;34m,\u001b[0m \u001b[0;36m2\u001b[0m\u001b[0;34m,\u001b[0m \u001b[0;36m3\u001b[0m\u001b[0;34m,\u001b[0m \u001b[0;36m4\u001b[0m\u001b[0;34m,\u001b[0m \u001b[0;36m5\u001b[0m\u001b[0;34m]\u001b[0m\u001b[0;34m.\u001b[0m\u001b[0mremove\u001b[0m\u001b[0;34m(\u001b[0m\u001b[0;34m[\u001b[0m\u001b[0;36m1\u001b[0m\u001b[0;34m,\u001b[0m\u001b[0;36m2\u001b[0m\u001b[0;34m]\u001b[0m\u001b[0;34m)\u001b[0m\u001b[0;34m\u001b[0m\u001b[0;34m\u001b[0m\u001b[0m\n\u001b[0m",
      "\u001b[0;31mValueError\u001b[0m: list.remove(x): x not in list"
     ]
    }
   ],
   "source": [
    "[1, 2, 3, 4, 5].remove([1,2])"
   ]
  },
  {
   "cell_type": "code",
   "execution_count": 35,
   "metadata": {},
   "outputs": [
    {
     "data": {
      "text/plain": [
       "'127890'"
      ]
     },
     "execution_count": 35,
     "metadata": {},
     "output_type": "execute_result"
    }
   ],
   "source": [
    "a = '1234567890'\n",
    "a[0:2] + a[2+4:]"
   ]
  },
  {
   "cell_type": "code",
   "execution_count": null,
   "metadata": {},
   "outputs": [],
   "source": []
  }
 ],
 "metadata": {
  "kernelspec": {
   "display_name": "Python 3",
   "language": "python",
   "name": "python3"
  },
  "language_info": {
   "name": "python",
   "version": "3.8.10 (v3.8.10:3d8993a744, May  3 2021, 09:09:08) \n[Clang 12.0.5 (clang-1205.0.22.9)]"
  },
  "orig_nbformat": 4,
  "vscode": {
   "interpreter": {
    "hash": "aee8b7b246df8f9039afb4144a1f6fd8d2ca17a180786b69acc140d282b71a49"
   }
  }
 },
 "nbformat": 4,
 "nbformat_minor": 2
}
