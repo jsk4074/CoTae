{
 "cells": [
  {
   "attachments": {},
   "cell_type": "markdown",
   "metadata": {},
   "source": [
    "babbling\tresult\n",
    "[\"aya\", \"yee\", \"u\", \"maa\", \"wyeoo\"]\t1\n",
    "[\"ayaye\", \"uuuma\", \"ye\", \"yemawoo\", \"ayaa\"] 3"
   ]
  },
  {
   "cell_type": "code",
   "execution_count": 38,
   "metadata": {},
   "outputs": [
    {
     "data": {
      "text/plain": [
       "3"
      ]
     },
     "execution_count": 38,
     "metadata": {},
     "output_type": "execute_result"
    }
   ],
   "source": [
    "def solution(babbling):\n",
    "    babble_list = [\"aya\", \"ye\", \"woo\", \"ma\"]\n",
    "    answer = []\n",
    "\n",
    "    for j in babbling:\n",
    "        if j == \"\": continue\n",
    "        for i in babble_list:\n",
    "            j = j.replace(i, \"\")\n",
    "\n",
    "        answer.append(j)\n",
    "\n",
    "    return answer.count(\"\")\n",
    "\n",
    "babbling = [\"ayaye\", \"uuuma\", \"ye\", \"yemawoo\", \"ayaa\"]\n",
    "solution(babbling)"
   ]
  },
  {
   "cell_type": "code",
   "execution_count": 24,
   "metadata": {},
   "outputs": [
    {
     "data": {
      "text/plain": [
       "['', 'uuu', '', '', 'a']"
      ]
     },
     "execution_count": 24,
     "metadata": {},
     "output_type": "execute_result"
    }
   ],
   "source": [
    "babble_list = [\"aya\", \"ye\", \"woo\", \"ma\"]\n",
    "test = [\"ayaye\", \"uuuma\", \"ye\", \"yemawoo\", \"ayaa\"]\n",
    "result = []\n",
    "\n",
    "for j in test:\n",
    "    for i in babble_list:\n",
    "        j = j.replace(i, \"\")\n",
    "\n",
    "    result.append(j)\n",
    "\n",
    "result"
   ]
  },
  {
   "cell_type": "code",
   "execution_count": 37,
   "metadata": {},
   "outputs": [
    {
     "name": "stdout",
     "output_type": "stream",
     "text": [
      "['**', 'uuu*', '*', '***', '*a']\n",
      "**\n",
      "*\n",
      "***\n"
     ]
    },
    {
     "data": {
      "text/plain": [
       "3"
      ]
     },
     "execution_count": 37,
     "metadata": {},
     "output_type": "execute_result"
    }
   ],
   "source": [
    "def solution(babbling):\n",
    "    answer =['aya','ye','woo','ma']\n",
    "    rep=[]\n",
    "    for i in babbling:\n",
    "        for j in answer:\n",
    "            i=i.replace(j,'*')\n",
    "        rep.append(i)\n",
    "\n",
    "    cnt=0\n",
    "    print(rep)\n",
    "    for i in rep:\n",
    "        test=set(i)\n",
    "        if len(test)==1 and '*' in i:\n",
    "            print(i)\n",
    "            cnt+=1\n",
    "    return cnt\n",
    "\n",
    "babbling = [\"ayaye\", \"uuuma\", \"ye\", \"yemawoo\", \"ayaa\"]\n",
    "solution(babbling)"
   ]
  },
  {
   "cell_type": "code",
   "execution_count": null,
   "metadata": {},
   "outputs": [],
   "source": []
  }
 ],
 "metadata": {
  "kernelspec": {
   "display_name": "Python 3",
   "language": "python",
   "name": "python3"
  },
  "language_info": {
   "codemirror_mode": {
    "name": "ipython",
    "version": 3
   },
   "file_extension": ".py",
   "mimetype": "text/x-python",
   "name": "python",
   "nbconvert_exporter": "python",
   "pygments_lexer": "ipython3",
   "version": "3.8.10"
  },
  "orig_nbformat": 4,
  "vscode": {
   "interpreter": {
    "hash": "aee8b7b246df8f9039afb4144a1f6fd8d2ca17a180786b69acc140d282b71a49"
   }
  }
 },
 "nbformat": 4,
 "nbformat_minor": 2
}
